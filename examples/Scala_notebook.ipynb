{
 "cells": [
  {
   "cell_type": "markdown",
   "metadata": {},
   "source": [
    "## Object-oriented"
   ]
  },
  {
   "cell_type": "code",
   "execution_count": 41,
   "metadata": {},
   "outputs": [
    {
     "data": {
      "text/plain": [
       "defined \u001b[32mobject\u001b[39m \u001b[36mHello\u001b[39m"
      ]
     },
     "execution_count": 41,
     "metadata": {},
     "output_type": "execute_result"
    }
   ],
   "source": [
    "object Hello {\n",
    "  def hello() {\n",
    "    println(\"Hello, world!\")\n",
    "  }\n",
    "}"
   ]
  },
  {
   "cell_type": "markdown",
   "metadata": {},
   "source": [
    "## Function representations"
   ]
  },
  {
   "cell_type": "code",
   "execution_count": 39,
   "metadata": {},
   "outputs": [
    {
     "name": "stdout",
     "output_type": "stream",
     "text": [
      "4\n",
      "2\n"
     ]
    },
    {
     "data": {
      "text/plain": [
       "defined \u001b[32mfunction\u001b[39m \u001b[36mmax\u001b[39m\n",
       "\u001b[36mliteral_max\u001b[39m: (\u001b[32mInt\u001b[39m, \u001b[32mInt\u001b[39m) => \u001b[32mInt\u001b[39m = <function2>"
      ]
     },
     "execution_count": 39,
     "metadata": {},
     "output_type": "execute_result"
    }
   ],
   "source": [
    "/*\n",
    "A funcion is treated as a first-class value,similar to any other identifiers like Int,String....where the \n",
    "identifier name is the function's signature(LHS) and the value of the identifier is the function's body(RHS)\n",
    "*/\n",
    "def max(x: Int,y: Int) = if (x>y) x else y\n",
    "//   L.H.S.            =   R.H.S\n",
    "//-------------------------------------------------------------------------------------------\n",
    "//Function literal\n",
    "val literal_max = (x: Int,y: Int) => if (x>y) x else y\n",
    "println(max(-3,4))\n",
    "println(literal_max(-1,2))"
   ]
  },
  {
   "cell_type": "code",
   "execution_count": 0,
   "metadata": {},
   "outputs": [
    {
     "ename": "",
     "evalue": "",
     "output_type": "error",
     "traceback": [
      "<console>:6: '=' expected but ';' found.",
      "    def compressMyFile(input:Array[String],status:Boolean):Boolean = {",
      "^"
     ]
    }
   ],
   "source": [
    "class PiedPiper{\n",
    "    \n",
    "    private var compressFile = false\n",
    "    private val myfil \n",
    "    \n",
    "    def compressMyFile(input:Array[String],status:Boolean):Boolean = {\n",
    "        println(input+\"Compressed \")\n",
    "        return true\n",
    "    }\n",
    "}"
   ]
  },
  {
   "cell_type": "code",
   "execution_count": 0,
   "metadata": {},
   "outputs": [
    {
     "name": "stderr",
     "output_type": "stream",
     "text": [
      "cmd0.sc:1: not found: value aa\n",
      "val res0 = aa = new PiedPiper\n",
      "           ^"
     ]
    },
    {
     "ename": "",
     "evalue": "",
     "output_type": "error",
     "traceback": [
      "Compilation Failed"
     ]
    }
   ],
   "source": [
    "aa = new PiedPiper"
   ]
  }
 ],
 "metadata": {
  "kernelspec": {
   "display_name": "Scala",
   "language": "scala",
   "name": "scala"
  },
  "language_info": {
   "codemirror_mode": "text/x-scala",
   "file_extension": ".scala",
   "mimetype": "text/x-scala",
   "name": "scala211",
   "nbconvert_exporter": "script",
   "pygments_lexer": "scala",
   "version": "2.11.11"
  }
 },
 "nbformat": 4,
 "nbformat_minor": 2
}
