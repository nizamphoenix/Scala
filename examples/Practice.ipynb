{
 "cells": [
  {
   "cell_type": "markdown",
   "metadata": {},
   "source": [
    "#### Scala Notebook containing examples from *\"Programming in Scala\"-Martin odersky,Lex Spoon,Bill Venners*"
   ]
  },
  {
   "cell_type": "markdown",
   "metadata": {},
   "source": [
    "## Function representations"
   ]
  },
  {
   "cell_type": "code",
   "execution_count": 39,
   "metadata": {},
   "outputs": [
    {
     "name": "stdout",
     "output_type": "stream",
     "text": [
      "4\n",
      "2\n"
     ]
    },
    {
     "data": {
      "text/plain": [
       "defined \u001b[32mfunction\u001b[39m \u001b[36mmax\u001b[39m\n",
       "\u001b[36mliteral_max\u001b[39m: (\u001b[32mInt\u001b[39m, \u001b[32mInt\u001b[39m) => \u001b[32mInt\u001b[39m = <function2>"
      ]
     },
     "execution_count": 39,
     "metadata": {},
     "output_type": "execute_result"
    }
   ],
   "source": [
    "/*\n",
    "A funcion is treated as a first-class value,similar to any other identifiers like Int,String....where the \n",
    "identifier name is the function's signature(LHS) and the value of the identifier is the function's body(RHS)\n",
    "*/\n",
    "def max(x: Int,y: Int) = if (x>y) x else y\n",
    "//   L.H.S.            =   R.H.S\n",
    "//-------------------------------------------------------------------------------------------\n",
    "//Function literal\n",
    "val literal_max = (x: Int,y: Int) => if (x>y) x else y\n",
    "println(max(-3,4))\n",
    "println(literal_max(-1,2))"
   ]
  },
  {
   "cell_type": "markdown",
   "metadata": {},
   "source": [
    "When you define a variable\n",
    "with **val**, the variable can’t be reassigned, but the object to which it refers\n",
    "could potentially still be changed.   \n",
    "So in this case, you cannot reassign\n",
    "greetStrings to a different array; greetStrings will always point to the\n",
    "same Array[String] instance with which it was initialized. But you can\n",
    "change the elements of that Array[String] over time, so the array itself is\n",
    "mutable.\n"
   ]
  },
  {
   "cell_type": "code",
   "execution_count": 39,
   "metadata": {},
   "outputs": [
    {
     "name": "stdout",
     "output_type": "stream",
     "text": [
      "Hello, world!\n",
      "Hello, world!\n",
      "Functional printing\n",
      "Hello, world!\n"
     ]
    },
    {
     "data": {
      "text/plain": [
       "\u001b[36mgreetStrings\u001b[39m: \u001b[32mArray\u001b[39m[\u001b[32mString\u001b[39m] = \u001b[33mArray\u001b[39m(\n",
       "  \u001b[32m\"Hello\"\u001b[39m,\n",
       "  \u001b[32m\", \"\u001b[39m,\n",
       "  \u001b[32m\"\"\"\n",
       "world!  \n",
       "\n",
       "  \"\"\"\u001b[39m\n",
       ")"
      ]
     },
     "execution_count": 39,
     "metadata": {},
     "output_type": "execute_result"
    }
   ],
   "source": [
    "val greetStrings = new Array[String](3)\n",
    "//val numNames = Array(\"zero\", \"one\", \"two\") //A more concise way of initializing arrays\n",
    "/*\n",
    "A Scala array is a mutable sequence of objects that all share the same type.\n",
    "*/\n",
    "greetStrings(0) = \"Hello\"\n",
    "greetStrings(1) = \", \"\n",
    "greetStrings(2) = \"world!\\n\"\n",
    "for (i <- 0 to 2)\n",
    "    print(greetStrings(i))\n",
    "for (i <- greetStrings)\n",
    "    print(i)\n",
    "println(\"Functional printing\")\n",
    "greetStrings.foreach(print)"
   ]
  },
  {
   "cell_type": "code",
   "execution_count": 40,
   "metadata": {},
   "outputs": [
    {
     "data": {
      "text/plain": [
       "\u001b[36mgreetStrings\u001b[39m: \u001b[32mArray\u001b[39m[\u001b[32mString\u001b[39m] = \u001b[33mArray\u001b[39m(null, null, null)\n",
       "\u001b[36mres39_1\u001b[39m: \u001b[32mArray\u001b[39m[\u001b[32mString\u001b[39m] = \u001b[33mArray\u001b[39m(null, null, null)"
      ]
     },
     "execution_count": 40,
     "metadata": {},
     "output_type": "execute_result"
    }
   ],
   "source": [
    "val greetStrings = new Array[String](3)\n",
    "greetStrings"
   ]
  },
  {
   "cell_type": "markdown",
   "metadata": {},
   "source": [
    "**Why are arrays accessed using parenthesis??**  \n",
    "greetStrings(i) *is transformed by the compiler to* greetStrings.apply(i)  \n",
    "greetStrings(0) = \"Hello\" *will be transformed into* greetStrings.update(0, \"Hello\").  \n",
    "\n",
    "Scala achieves conceptual simplicity by treating everything as objects with methods."
   ]
  },
  {
   "cell_type": "markdown",
   "metadata": {},
   "source": [
    "## Lists \n",
    "One of the big ideas of the functional style of programming is that methods\n",
    "should not have side effects. A method’s only act should be to compute and\n",
    "return a value. Some benefits gained when you take this approach are that\n",
    "methods become less entangled, and therefore more reliable and reusable.\n",
    "Another benefit (in a statically typed language) is that everything that goes\n",
    "into and out of a method is checked by a type checker, so logic errors are\n",
    "more likely to manifest themselves as type errors. Applying this functional\n",
    "philosophy to the world of objects means making objects immutable.  \n",
    "\n",
    "#### List in scala is immutable unlike Java's List. Also,  Array in scala is mutable."
   ]
  },
  {
   "cell_type": "markdown",
   "metadata": {},
   "source": [
    "### ::: is a method of List object for concatenation.  \n",
    "### ::  is a method of List object for prepending.It is called cons. "
   ]
  },
  {
   "cell_type": "code",
   "execution_count": 48,
   "metadata": {},
   "outputs": [
    {
     "name": "stdout",
     "output_type": "stream",
     "text": [
      "Concatenation using :::\n",
      "List(1, 2) and List(3, 4) were not mutated.\n",
      "Thus, List(1, 2, 3, 4) is a new list.\n"
     ]
    },
    {
     "data": {
      "text/plain": [
       "\u001b[36moneTwo\u001b[39m: \u001b[32mList\u001b[39m[\u001b[32mInt\u001b[39m] = \u001b[33mList\u001b[39m(\u001b[32m1\u001b[39m, \u001b[32m2\u001b[39m)\n",
       "\u001b[36mthreeFour\u001b[39m: \u001b[32mList\u001b[39m[\u001b[32mInt\u001b[39m] = \u001b[33mList\u001b[39m(\u001b[32m3\u001b[39m, \u001b[32m4\u001b[39m)\n",
       "\u001b[36moneTwoThreeFour\u001b[39m: \u001b[32mList\u001b[39m[\u001b[32mInt\u001b[39m] = \u001b[33mList\u001b[39m(\u001b[32m1\u001b[39m, \u001b[32m2\u001b[39m, \u001b[32m3\u001b[39m, \u001b[32m4\u001b[39m)"
      ]
     },
     "execution_count": 48,
     "metadata": {},
     "output_type": "execute_result"
    }
   ],
   "source": [
    "/*Because Lists are immutable, they behave a bit like Java strings: when you call\n",
    "a method on a list that might seem by its name to imply the list will mutate, it\n",
    "instead creates and returns a new list with the new value.*/\n",
    "println(\"Concatenation using :::\")\n",
    "val oneTwo = List(1, 2)\n",
    "val threeFour = List(3, 4)\n",
    "val oneTwoThreeFour = oneTwo:::threeFour\n",
    "println(\"\"+ oneTwo +\" and \"+ threeFour +\" were not mutated.\")\n",
    "println(\"Thus, \"+ oneTwoThreeFour +\" is a new list.\")"
   ]
  },
  {
   "cell_type": "code",
   "execution_count": 3,
   "metadata": {},
   "outputs": [
    {
     "name": "stdout",
     "output_type": "stream",
     "text": [
      "Prepend using cons ::\n",
      "List(1, 2, 3)\n"
     ]
    },
    {
     "data": {
      "text/plain": [
       "\u001b[36mtwoThree\u001b[39m: \u001b[32mList\u001b[39m[\u001b[32mInt\u001b[39m] = \u001b[33mList\u001b[39m(\u001b[32m2\u001b[39m, \u001b[32m3\u001b[39m)\n",
       "\u001b[36mOneTwoThree\u001b[39m: \u001b[32mList\u001b[39m[\u001b[32mInt\u001b[39m] = \u001b[33mList\u001b[39m(\u001b[32m1\u001b[39m, \u001b[32m2\u001b[39m, \u001b[32m3\u001b[39m)\n",
       "\u001b[36mres2_4\u001b[39m: \u001b[32mInt\u001b[39m = \u001b[32m3\u001b[39m"
      ]
     },
     "execution_count": 3,
     "metadata": {},
     "output_type": "execute_result"
    }
   ],
   "source": [
    "println(\"Prepend using cons ::\")\n",
    "val twoThree = List(2, 3)\n",
    "val OneTwoThree = 1::twoThree// twoThree.::(1).\n",
    "println(OneTwoThree)\n",
    "twoThree(1)"
   ]
  },
  {
   "cell_type": "markdown",
   "metadata": {},
   "source": [
    "### Empty list using Nil or List()"
   ]
  },
  {
   "cell_type": "code",
   "execution_count": 50,
   "metadata": {},
   "outputs": [
    {
     "name": "stdout",
     "output_type": "stream",
     "text": [
      "List(1, 2, 3)\n"
     ]
    },
    {
     "data": {
      "text/plain": [
       "\u001b[36moneTwoThree\u001b[39m: \u001b[32mList\u001b[39m[\u001b[32mInt\u001b[39m] = \u001b[33mList\u001b[39m(\u001b[32m1\u001b[39m, \u001b[32m2\u001b[39m, \u001b[32m3\u001b[39m)"
      ]
     },
     "execution_count": 50,
     "metadata": {},
     "output_type": "execute_result"
    }
   ],
   "source": [
    "val oneTwoThree = 1 :: 2 :: 3 :: Nil\n",
    "println(oneTwoThree)\n",
    "/*\n",
    "If Nil is not used at the end then the execution fails since 3 is Int and not list while Nil is a list  \n",
    "which facilitates prepend operation using cons\n",
    "*/"
   ]
  },
  {
   "cell_type": "markdown",
   "metadata": {},
   "source": [
    "###### Why not append to lists?  \n",
    "Class List does not offer an append operation, because the time it\n",
    "takes to append to a list grows linearly with the size of the list, whereas\n",
    "prepending with **::** takes constant time.  \n",
    "However append can be used as follows,  \n",
    "1.use :: and then use reverse.  \n",
    "           OR  \n",
    "2.use ListBuffer and then call toList()."
   ]
  },
  {
   "cell_type": "code",
   "execution_count": 20,
   "metadata": {},
   "outputs": [
    {
     "name": "stderr",
     "output_type": "stream",
     "text": [
      "cmd20.sc:8: value sort is not a member of List[String]\n",
      "val res20_1 = thrill.sort((s, t) => s.charAt(0).toLowerCase<t.charAt(0).toLowerCase)\n",
      "                     ^"
     ]
    },
    {
     "ename": "",
     "evalue": "",
     "output_type": "error",
     "traceback": [
      "Compilation Failed"
     ]
    }
   ],
   "source": [
    "val thrill = \"Will\" :: \"fill\" ::\"until\" :: Nil\n",
    "thrill.count(s => s.length == 4)\n",
    "thrill.exists(s => s == \"until\")\n",
    "thrill.filter(s => s.length == 4)\n",
    "thrill.forall(s =>s.endsWith(\"l\"))\n",
    "thrill.map(s => s + \" added\")\n",
    "thrill.mkString(\", \")\n"
   ]
  },
  {
   "cell_type": "markdown",
   "metadata": {},
   "source": [
    "### tuples :- immutable but contain various types unlike Lists.Index starts with 1"
   ]
  },
  {
   "cell_type": "code",
   "execution_count": 37,
   "metadata": {},
   "outputs": [
    {
     "name": "stdout",
     "output_type": "stream",
     "text": [
      "99\n",
      "Luftballons\n"
     ]
    },
    {
     "data": {
      "text/plain": [
       "\u001b[36mpair\u001b[39m: (\u001b[32mInt\u001b[39m, \u001b[32mString\u001b[39m) = (\u001b[32m99\u001b[39m, \u001b[32m\"Luftballons\"\u001b[39m)"
      ]
     },
     "execution_count": 37,
     "metadata": {},
     "output_type": "execute_result"
    }
   ],
   "source": [
    "val pair = (99, \"Luftballons\")\n",
    "println(pair._1)\n",
    "println(pair._2)\n",
    "/*Both give errors\n",
    "println(pair(0))\n",
    "println(pair(1))\n",
    "*/"
   ]
  },
  {
   "cell_type": "markdown",
   "metadata": {},
   "source": [
    "#### max elements that a tuple can take is 22"
   ]
  },
  {
   "cell_type": "code",
   "execution_count": 37,
   "metadata": {},
   "outputs": [
    {
     "ename": "",
     "evalue": "",
     "output_type": "error",
     "traceback": [
      "<console>:1: too many elements for tuple: 24, allowed: 22",
      "val elements = (123,1,'e',\"rs\",\"rergag\",\"23\",23.33,\"s\",123,1,'e',\"rs\",\"rergag\",\"23\",23.33,\"s\",123,1,'e',\"rs\",\"rergag\",\"23\",23.33,\"s\")",
      "               ^"
     ]
    }
   ],
   "source": [
    "val elements = (123,1,'e',\"rs\",\"rergag\",\"23\",23.33,\"s\",123,1,'e',\"rs\",\"rergag\",\"23\",23.33,\"s\",123,1,'e',\"rs\",\"rergag\",\"23\",23.33,\"s\")"
   ]
  },
  {
   "attachments": {
    "image.png": {
     "image/png": "[encoded data removed]"
    }
   },
   "cell_type": "markdown",
   "metadata": {},
   "source": [
    "### Sets\n",
    "![image.png](attachment:image.png)"
   ]
  },
  {
   "cell_type": "code",
   "execution_count": 63,
   "metadata": {},
   "outputs": [
    {
     "name": "stdout",
     "output_type": "stream",
     "text": [
      "true\n"
     ]
    },
    {
     "data": {
      "text/plain": [
       "\u001b[32mimport \u001b[39m\u001b[36mscala.collection.immutable.Set//Not required.Used here to override mutability below.\n",
       "\u001b[39m\n",
       "\u001b[36mjetSet\u001b[39m: \u001b[32mSet\u001b[39m[\u001b[32mString\u001b[39m] = \u001b[33mSet\u001b[39m(\u001b[32m\"Boeing\"\u001b[39m, \u001b[32m\"Airbus\"\u001b[39m, \u001b[32m\"Lear\"\u001b[39m)\n",
       "\u001b[36mres62_4\u001b[39m: \u001b[32mString\u001b[39m = \u001b[32m\"scala.collection.immutable.Set$Set3\"\u001b[39m"
      ]
     },
     "execution_count": 63,
     "metadata": {},
     "output_type": "execute_result"
    }
   ],
   "source": [
    "//Immutable Set()\n",
    "import scala.collection.immutable.Set//Not required.Used here to override mutability below.\n",
    "var jetSet = Set(\"Boeing\", \"Airbus\")//Notice it is var.val cannot be used!!\n",
    "jetSet+=\"Lear\"\n",
    "println(jetSet.contains(\"Lear\"))\n",
    "jetSet.getClass().getName()"
   ]
  },
  {
   "cell_type": "code",
   "execution_count": 64,
   "metadata": {},
   "outputs": [
    {
     "name": "stdout",
     "output_type": "stream",
     "text": [
      "Set(Poltergeist, Shrek, Hitch)\n"
     ]
    },
    {
     "data": {
      "text/plain": [
       "\u001b[32mimport \u001b[39m\u001b[36mscala.collection.mutable.Set\n",
       "\u001b[39m\n",
       "\u001b[36mmovieSet\u001b[39m: \u001b[32mcollection\u001b[39m.\u001b[32mmutable\u001b[39m.\u001b[32mSet\u001b[39m[\u001b[32mString\u001b[39m] = \u001b[33mSet\u001b[39m(\u001b[32m\"Poltergeist\"\u001b[39m, \u001b[32m\"Shrek\"\u001b[39m, \u001b[32m\"Hitch\"\u001b[39m)\n",
       "\u001b[36mres63_2\u001b[39m: \u001b[32mcollection\u001b[39m.\u001b[32mmutable\u001b[39m.\u001b[32mSet\u001b[39m[\u001b[32mString\u001b[39m] = \u001b[33mSet\u001b[39m(\u001b[32m\"Poltergeist\"\u001b[39m, \u001b[32m\"Shrek\"\u001b[39m, \u001b[32m\"Hitch\"\u001b[39m)\n",
       "\u001b[36mres63_4\u001b[39m: \u001b[32mString\u001b[39m = \u001b[32m\"scala.collection.mutable.HashSet\"\u001b[39m"
      ]
     },
     "execution_count": 64,
     "metadata": {},
     "output_type": "execute_result"
    }
   ],
   "source": [
    "//Mutable Set()\n",
    "import scala.collection.mutable.Set\n",
    "val movieSet = Set(\"Hitch\", \"Poltergeist\")//val or var can be used!\n",
    "movieSet += \"Shrek\"//Able to reassign to movieSet since the Set() is mutable \n",
    "println(movieSet)\n",
    "movieSet.getClass().getName()"
   ]
  },
  {
   "cell_type": "code",
   "execution_count": 71,
   "metadata": {},
   "outputs": [
    {
     "name": "stdout",
     "output_type": "stream",
     "text": [
      "Set(Chilies, Tomatoes, Corriander)\n"
     ]
    },
    {
     "data": {
      "text/plain": [
       "\u001b[32mimport \u001b[39m\u001b[36mscala.collection.immutable.HashSet\n",
       "\u001b[39m\n",
       "\u001b[36mhashSet\u001b[39m: \u001b[32mHashSet\u001b[39m[\u001b[32mString\u001b[39m] = \u001b[33mSet\u001b[39m(\u001b[32m\"Chilies\"\u001b[39m, \u001b[32m\"Tomatoes\"\u001b[39m, \u001b[32m\"Corriander\"\u001b[39m)\n",
       "\u001b[36mres70_4\u001b[39m: \u001b[32mString\u001b[39m = \u001b[32m\"scala.collection.immutable.HashSet$HashTrieSet\"\u001b[39m"
      ]
     },
     "execution_count": 71,
     "metadata": {},
     "output_type": "execute_result"
    }
   ],
   "source": [
    "//HasSet()\n",
    "import scala.collection.immutable.HashSet\n",
    "var hashSet = HashSet(\"Tomatoes\", \"Chilies\")\n",
    "hashSet+=\"Corriander\"\n",
    "println(hashSet)\n",
    "hashSet.getClass().getName()"
   ]
  },
  {
   "attachments": {
    "image.png": {
     "image/png": "[encoded data removed]"
    }
   },
   "cell_type": "markdown",
   "metadata": {},
   "source": [
    "### Maps\n",
    "![image.png](attachment:image.png)"
   ]
  },
  {
   "cell_type": "code",
   "execution_count": 79,
   "metadata": {},
   "outputs": [
    {
     "name": "stdout",
     "output_type": "stream",
     "text": [
      "Find big X on ground.\n"
     ]
    },
    {
     "data": {
      "text/plain": [
       "\u001b[32mimport \u001b[39m\u001b[36mscala.collection.mutable.Map\n",
       "\u001b[39m\n",
       "\u001b[36mtreasureMap\u001b[39m: \u001b[32mMap\u001b[39m[\u001b[32mInt\u001b[39m, \u001b[32mString\u001b[39m] = \u001b[33mMap\u001b[39m(\u001b[32m2\u001b[39m -> \u001b[32m\"Find big X on ground.\"\u001b[39m, \u001b[32m1\u001b[39m -> \u001b[32m\"Go to island.\"\u001b[39m, \u001b[32m3\u001b[39m -> \u001b[32m\"Dig.\"\u001b[39m)\n",
       "\u001b[36mres78_2\u001b[39m: \u001b[32mMap\u001b[39m[\u001b[32mInt\u001b[39m, \u001b[32mString\u001b[39m] = \u001b[33mMap\u001b[39m(\u001b[32m2\u001b[39m -> \u001b[32m\"Find big X on ground.\"\u001b[39m, \u001b[32m1\u001b[39m -> \u001b[32m\"Go to island.\"\u001b[39m, \u001b[32m3\u001b[39m -> \u001b[32m\"Dig.\"\u001b[39m)\n",
       "\u001b[36mres78_3\u001b[39m: \u001b[32mMap\u001b[39m[\u001b[32mInt\u001b[39m, \u001b[32mString\u001b[39m] = \u001b[33mMap\u001b[39m(\u001b[32m2\u001b[39m -> \u001b[32m\"Find big X on ground.\"\u001b[39m, \u001b[32m1\u001b[39m -> \u001b[32m\"Go to island.\"\u001b[39m, \u001b[32m3\u001b[39m -> \u001b[32m\"Dig.\"\u001b[39m)\n",
       "\u001b[36mres78_4\u001b[39m: \u001b[32mMap\u001b[39m[\u001b[32mInt\u001b[39m, \u001b[32mString\u001b[39m] = \u001b[33mMap\u001b[39m(\u001b[32m2\u001b[39m -> \u001b[32m\"Find big X on ground.\"\u001b[39m, \u001b[32m1\u001b[39m -> \u001b[32m\"Go to island.\"\u001b[39m, \u001b[32m3\u001b[39m -> \u001b[32m\"Dig.\"\u001b[39m)"
      ]
     },
     "execution_count": 79,
     "metadata": {},
     "output_type": "execute_result"
    }
   ],
   "source": [
    "import scala.collection.mutable.Map\n",
    "val treasureMap = Map[Int, String]()\n",
    "treasureMap += (1 -> \"Go to island.\")\n",
    "treasureMap += (2 -> \"Find big X on ground.\")\n",
    "treasureMap += (3 -> \"Dig.\")\n",
    "println(treasureMap(2))\n"
   ]
  },
  {
   "cell_type": "code",
   "execution_count": 75,
   "metadata": {},
   "outputs": [
    {
     "name": "stdout",
     "output_type": "stream",
     "text": [
      "IV\n"
     ]
    },
    {
     "data": {
      "text/plain": [
       "\u001b[32mimport \u001b[39m\u001b[36mscala.collection.immutable.Map\n",
       "\u001b[39m\n",
       "\u001b[36mromanNumeral\u001b[39m: \u001b[32mMap\u001b[39m[\u001b[32mInt\u001b[39m, \u001b[32mString\u001b[39m] = \u001b[33mMap\u001b[39m(\u001b[32m5\u001b[39m -> \u001b[32m\"V\"\u001b[39m, \u001b[32m1\u001b[39m -> \u001b[32m\"I\"\u001b[39m, \u001b[32m2\u001b[39m -> \u001b[32m\"II\"\u001b[39m, \u001b[32m3\u001b[39m -> \u001b[32m\"III\"\u001b[39m, \u001b[32m4\u001b[39m -> \u001b[32m\"IV\"\u001b[39m)"
      ]
     },
     "execution_count": 75,
     "metadata": {},
     "output_type": "execute_result"
    }
   ],
   "source": [
    "import scala.collection.immutable.Map\n",
    "val romanNumeral = Map(1 -> \"I\", 2 -> \"II\", 3 -> \"III\", 4 -> \"IV\", 5 -> \"V\")\n",
    "println(romanNumeral(4))\n"
   ]
  },
  {
   "cell_type": "markdown",
   "metadata": {},
   "source": [
    "### Imperative programming"
   ]
  },
  {
   "cell_type": "code",
   "execution_count": 82,
   "metadata": {},
   "outputs": [
    {
     "name": "stdout",
     "output_type": "stream",
     "text": [
      "aa\n",
      "ssss\n"
     ]
    },
    {
     "data": {
      "text/plain": [
       "defined \u001b[32mfunction\u001b[39m \u001b[36mprintArgs\u001b[39m"
      ]
     },
     "execution_count": 82,
     "metadata": {},
     "output_type": "execute_result"
    }
   ],
   "source": [
    "def printArgs(args: Array[String]): Unit = {\n",
    "var i = 0//presence of var is a telltale sign of imperative paradigm.\n",
    "while (i < args.length) {\n",
    "println(args(i))\n",
    "i += 1\n",
    "}\n",
    "}\n",
    "printArgs(Array(\"aa\",\"ssss\"))"
   ]
  },
  {
   "cell_type": "markdown",
   "metadata": {},
   "source": [
    "### Functional programming"
   ]
  },
  {
   "cell_type": "markdown",
   "metadata": {},
   "source": [
    "##### Not fully-pure functional code.  \n",
    "Although no vars used but since we are printing to console it produces side-effects.  \n",
    "Unit as a result type is a sign of side-effects`\n"
   ]
  },
  {
   "cell_type": "code",
   "execution_count": 83,
   "metadata": {},
   "outputs": [
    {
     "name": "stdout",
     "output_type": "stream",
     "text": [
      "aa\n",
      "ssss\n"
     ]
    },
    {
     "data": {
      "text/plain": [
       "defined \u001b[32mfunction\u001b[39m \u001b[36mprintArgs\u001b[39m"
      ]
     },
     "execution_count": 83,
     "metadata": {},
     "output_type": "execute_result"
    }
   ],
   "source": [
    "def printArgs(args: Array[String]): Unit = {\n",
    "args.foreach(println)\n",
    "}\n",
    "\n",
    "printArgs(Array(\"aa\",\"ssss\"))"
   ]
  },
  {
   "cell_type": "markdown",
   "metadata": {},
   "source": [
    "#### Pure functional code.  \n",
    "No interaction with I/O.Format the content and return it.Do not print."
   ]
  },
  {
   "cell_type": "code",
   "execution_count": 86,
   "metadata": {},
   "outputs": [
    {
     "name": "stdout",
     "output_type": "stream",
     "text": [
      "aa\n",
      "ssss\n"
     ]
    },
    {
     "data": {
      "text/plain": [
       "defined \u001b[32mfunction\u001b[39m \u001b[36mformatArgs\u001b[39m\n",
       "\u001b[36mres85_1\u001b[39m: \u001b[32mString\u001b[39m = \u001b[32m\"\"\"\n",
       "aa\n",
       "ssss\n",
       "\"\"\"\u001b[39m"
      ]
     },
     "execution_count": 86,
     "metadata": {},
     "output_type": "execute_result"
    }
   ],
   "source": [
    "def formatArgs(args: Array[String]) = args.mkString(\"\\n\")\n",
    "formatArgs(Array(\"aa\",\"ssss\"))\n",
    "//To print.\n",
    "println(formatArgs(Array(\"aa\",\"ssss\")))"
   ]
  },
  {
   "cell_type": "code",
   "execution_count": 110,
   "metadata": {},
   "outputs": [
    {
     "name": "stdout",
     "output_type": "stream",
     "text": [
      "10 nizamuddin\n",
      "2 is\n",
      "1 a\n",
      "8 good boy\n",
      "scala.io.BufferedSource\n",
      "nizamuddin\n",
      "is\n",
      "a\n",
      "good boy\n"
     ]
    },
    {
     "data": {
      "text/plain": [
       "\u001b[32mimport \u001b[39m\u001b[36mscala.io.Source\n",
       "\u001b[39m\n",
       "\u001b[36mfile\u001b[39m: \u001b[32mio\u001b[39m.\u001b[32mBufferedSource\u001b[39m = empty iterator"
      ]
     },
     "execution_count": 110,
     "metadata": {},
     "output_type": "execute_result"
    }
   ],
   "source": [
    "import scala.io.Source\n",
    "for (line <- Source.fromFile(\"sample.txt\").getLines)\n",
    "println(line.length +\" \"+ line)\n",
    "//Functional way\n",
    "val file=Source.fromFile(\"sample.txt\")\n",
    "println(file.getClass()getName())\n",
    "file.foreach(print)\n"
   ]
  },
  {
   "cell_type": "code",
   "execution_count": 112,
   "metadata": {},
   "outputs": [
    {
     "data": {
      "text/plain": [
       "\u001b[36mcompare\u001b[39m: (\u001b[32mString\u001b[39m, \u001b[32mString\u001b[39m) => \u001b[32mString\u001b[39m = <function2>\n",
       "\u001b[36mres111_1\u001b[39m: \u001b[32mString\u001b[39m = \u001b[32m\"uddinu\"\u001b[39m"
      ]
     },
     "execution_count": 112,
     "metadata": {},
     "output_type": "execute_result"
    }
   ],
   "source": [
    "//Simple function to compare two strings in functional style\n",
    "var compare = (a:String, b:String) => if (a.length > b.length) a else b\n",
    "compare(\"nizam\",\"uddinu\")"
   ]
  },
  {
   "cell_type": "markdown",
   "metadata": {},
   "source": [
    "## Chap4.Classes and Objects"
   ]
  },
  {
   "attachments": {
    "image.png": {
     "image/png": "[encoded data removed]"
    }
   },
   "cell_type": "markdown",
   "metadata": {},
   "source": [
    "On instantiating a class, the runtime sets aside some memory to hold the image\n",
    "of that object’s state—i.e., the content of its variables. For example, \n",
    "![image.png](attachment:image.png)\n",
    "\n"
   ]
  },
  {
   "cell_type": "code",
   "execution_count": 122,
   "metadata": {},
   "outputs": [
    {
     "data": {
      "text/plain": [
       "defined \u001b[32mclass\u001b[39m \u001b[36mSample\u001b[39m\n",
       "\u001b[36ma\u001b[39m: \u001b[32mwrapper\u001b[39m.\u001b[32mwrapper\u001b[39m.\u001b[32mSample\u001b[39m = $sess.cmd121Wrapper$Helper$Sample@7212f2f2"
      ]
     },
     "execution_count": 122,
     "metadata": {},
     "output_type": "execute_result"
    }
   ],
   "source": [
    "/*Although 'a' is val we can change its contents as long as they are var(sum)\n",
    "but reinstantiating 'a' is not possible.\n",
    "*/\n",
    "class Sample{\n",
    "    var sum=0//default access modifier is Public\n",
    "}\n",
    "val a = new Sample\n",
    "a.sum=3\n",
    "//a = new Sample//gives error!!!!"
   ]
  },
  {
   "cell_type": "code",
   "execution_count": 122,
   "metadata": {},
   "outputs": [
    {
     "name": "stderr",
     "output_type": "stream",
     "text": [
      "cmd122.sc:5: reassignment to val\n",
      "val res122_2 = a.sum=3\n",
      "                    ^"
     ]
    },
    {
     "ename": "",
     "evalue": "",
     "output_type": "error",
     "traceback": [
      "Compilation Failed"
     ]
    }
   ],
   "source": [
    "class Sample{\n",
    "    val sum=0//IMMUTABLE!!!!\n",
    "}\n",
    "val a = new Sample\n",
    "a.sum=3//cannot change Immutable member of the class"
   ]
  },
  {
   "cell_type": "markdown",
   "metadata": {},
   "source": [
    "A **side effect** is generally defined as mutating state somewhere external to the method or performing\n",
    "an I/O action.  \n",
    "A **Procedure** is a method executed only for its side effects."
   ]
  },
  {
   "cell_type": "code",
   "execution_count": null,
   "metadata": {},
   "outputs": [],
   "source": [
    "class ChecksumAccumulator {\n",
    "private var sum = 0\n",
    "def add(b: Byte): Unit = sum += b\n",
    "//def add(b: Byte) { sum += b }//A procedure \n",
    "def checksum(): Int = ~(sum & 0xFF) + 1\n",
    "}\n"
   ]
  },
  {
   "cell_type": "markdown",
   "metadata": {},
   "source": [
    " Scala compiler can convert any type to Unit."
   ]
  },
  {
   "cell_type": "code",
   "execution_count": 133,
   "metadata": {},
   "outputs": [
    {
     "data": {
      "text/plain": [
       "defined \u001b[32mfunction\u001b[39m \u001b[36mf\u001b[39m\n",
       "defined \u001b[32mfunction\u001b[39m \u001b[36mg\u001b[39m\n",
       "defined \u001b[32mfunction\u001b[39m \u001b[36mh\u001b[39m\n",
       "\u001b[36mres132_5\u001b[39m: \u001b[32mString\u001b[39m = \u001b[32m\"this String is returned!\"\u001b[39m"
      ]
     },
     "execution_count": 133,
     "metadata": {},
     "output_type": "execute_result"
    }
   ],
   "source": [
    "def f(): Unit = \"this String is lost\"//it is lost since the result type is Unit\n",
    "def g() { \"this String is lost too\" }//If = is skipped and curly braces are found then result type is Unit\n",
    "def h() = {\"this String is returned!\"}//Since = is present although Unit is skipped\n",
    "f()//no string returned\n",
    "g()//no string returned\n",
    "h()//string is returned"
   ]
  }
 ],
 "metadata": {
  "kernelspec": {
   "display_name": "Scala",
   "language": "scala",
   "name": "scala"
  },
  "language_info": {
   "codemirror_mode": "text/x-scala",
   "file_extension": ".scala",
   "mimetype": "text/x-scala",
   "name": "scala211",
   "nbconvert_exporter": "script",
   "pygments_lexer": "scala",
   "version": "2.11.11"
  }
 },
 "nbformat": 4,
 "nbformat_minor": 2
}
